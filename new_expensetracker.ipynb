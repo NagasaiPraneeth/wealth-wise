{
  "nbformat": 4,
  "nbformat_minor": 0,
  "metadata": {
    "colab": {
      "provenance": []
    },
    "kernelspec": {
      "name": "python3",
      "display_name": "Python 3"
    },
    "language_info": {
      "name": "python"
    }
  },
  "cells": [
    {
      "cell_type": "code",
      "source": [
        "!pip install groq"
      ],
      "metadata": {
        "colab": {
          "base_uri": "https://localhost:8080/"
        },
        "id": "50-H73MbfBex",
        "outputId": "1678a3cc-91f6-4478-b9ee-196bf151829c"
      },
      "execution_count": 1,
      "outputs": [
        {
          "output_type": "stream",
          "name": "stdout",
          "text": [
            "Collecting groq\n",
            "  Downloading groq-0.12.0-py3-none-any.whl.metadata (13 kB)\n",
            "Requirement already satisfied: anyio<5,>=3.5.0 in /usr/local/lib/python3.10/dist-packages (from groq) (3.7.1)\n",
            "Requirement already satisfied: distro<2,>=1.7.0 in /usr/local/lib/python3.10/dist-packages (from groq) (1.9.0)\n",
            "Requirement already satisfied: httpx<1,>=0.23.0 in /usr/local/lib/python3.10/dist-packages (from groq) (0.27.2)\n",
            "Requirement already satisfied: pydantic<3,>=1.9.0 in /usr/local/lib/python3.10/dist-packages (from groq) (2.9.2)\n",
            "Requirement already satisfied: sniffio in /usr/local/lib/python3.10/dist-packages (from groq) (1.3.1)\n",
            "Requirement already satisfied: typing-extensions<5,>=4.7 in /usr/local/lib/python3.10/dist-packages (from groq) (4.12.2)\n",
            "Requirement already satisfied: idna>=2.8 in /usr/local/lib/python3.10/dist-packages (from anyio<5,>=3.5.0->groq) (3.10)\n",
            "Requirement already satisfied: exceptiongroup in /usr/local/lib/python3.10/dist-packages (from anyio<5,>=3.5.0->groq) (1.2.2)\n",
            "Requirement already satisfied: certifi in /usr/local/lib/python3.10/dist-packages (from httpx<1,>=0.23.0->groq) (2024.8.30)\n",
            "Requirement already satisfied: httpcore==1.* in /usr/local/lib/python3.10/dist-packages (from httpx<1,>=0.23.0->groq) (1.0.7)\n",
            "Requirement already satisfied: h11<0.15,>=0.13 in /usr/local/lib/python3.10/dist-packages (from httpcore==1.*->httpx<1,>=0.23.0->groq) (0.14.0)\n",
            "Requirement already satisfied: annotated-types>=0.6.0 in /usr/local/lib/python3.10/dist-packages (from pydantic<3,>=1.9.0->groq) (0.7.0)\n",
            "Requirement already satisfied: pydantic-core==2.23.4 in /usr/local/lib/python3.10/dist-packages (from pydantic<3,>=1.9.0->groq) (2.23.4)\n",
            "Downloading groq-0.12.0-py3-none-any.whl (108 kB)\n",
            "\u001b[2K   \u001b[90m━━━━━━━━━━━━━━━━━━━━━━━━━━━━━━━━━━━━━━━━\u001b[0m \u001b[32m108.9/108.9 kB\u001b[0m \u001b[31m3.0 MB/s\u001b[0m eta \u001b[36m0:00:00\u001b[0m\n",
            "\u001b[?25hInstalling collected packages: groq\n",
            "Successfully installed groq-0.12.0\n"
          ]
        }
      ]
    },
    {
      "cell_type": "code",
      "source": [
        "from datetime import datetime\n",
        "import matplotlib.pyplot as plt\n",
        "\n",
        "# Example user details\n",
        "user_salary = 50000  # Example user salary\n",
        "user_age = 25  # Example user age\n",
        "user_city = \"Hyderabad\"  # Example user city\n",
        "expenses = []  # Empty list to store expenses\n",
        "\n",
        "# Average expense data (hardcoded from table)\n",
        "average_expenses = {\n",
        "    \"Food\": 9985,\n",
        "    \"Food at home\": 6053,\n",
        "    \"Food away from home\": 3933,\n",
        "    \"Housing\": 25436,\n",
        "    \"Transportation\": 13174,\n",
        "    \"Healthcare\": 6159,\n",
        "    \"Education\": 1656,\n",
        "    \"Entertainment\": 3635,\n",
        "    \"Personal care\": 950,\n",
        "    \"Savings\": 24480,  # Average savings = Income - Expenditure\n",
        "    \"Alcoholic beverages\": 637,\n",
        "    \"Apparel and services\": 2041,\n",
        "    \"Tobacco products\": 370,\n",
        "    \"Cash contributions\": 2378\n",
        "}\n",
        "\n",
        "\n",
        "# Function to add expense\n",
        "def add_expense(amount, category, date=None):\n",
        "    if date is None:\n",
        "        date = datetime.now().strftime(\"%Y-%m-%d\")\n",
        "    expense = {\n",
        "        \"amount\": amount,\n",
        "        \"category\": category,\n",
        "        \"date\": date\n",
        "    }\n",
        "    expenses.append(expense)\n",
        "    print(f\"Expense added: {expense}\")\n",
        "\n",
        "# Function to view all transactions\n",
        "def view_transactions():\n",
        "    if not expenses:\n",
        "        print(\"No transactions to show.\")\n",
        "        return\n",
        "    for idx, expense in enumerate(expenses, 1):\n",
        "        print(f\"{idx}. {expense['category']} - ₹{expense['amount']} on {expense['date']}\")\n",
        "\n",
        "# Function to view expense pie chart\n",
        "def view_expense_pie_chart():\n",
        "    if not expenses:\n",
        "        print(\"No expenses to display.\")\n",
        "        return\n",
        "\n",
        "    # Calculate category-wise sum\n",
        "    category_totals = {}\n",
        "    for expense in expenses:\n",
        "        category = expense['category']\n",
        "        amount = expense['amount']\n",
        "        category_totals[category] = category_totals.get(category, 0) + amount\n",
        "\n",
        "    categories = list(category_totals.keys())\n",
        "    amounts = list(category_totals.values())\n",
        "\n",
        "    # Plot pie chart\n",
        "    plt.figure(figsize=(6, 6))\n",
        "    plt.pie(amounts, labels=categories, autopct='%1.1f%%', startangle=140)\n",
        "    plt.title(\"Expenses by Category\")\n",
        "    plt.show()\n",
        "\n",
        "# Function to generate observations\n",
        "def generate_observations():\n",
        "    total_expenses = sum(exp['amount'] for exp in expenses)\n",
        "    savings = user_salary - total_expenses\n",
        "\n",
        "    print(\"\\nObservations:\")\n",
        "    # Savings Analysis\n",
        "    if savings < average_expenses[\"Savings\"]:\n",
        "        print(f\"- Your savings (₹{savings}) are below the average savings (₹{average_expenses['Savings']}). \"\n",
        "              f\"You are saving {((average_expenses['Savings'] - savings) / average_expenses['Savings']) * 100:.2f}% less.\")\n",
        "    else:\n",
        "        print(f\"- Your savings (₹{savings}) are above the average savings (₹{average_expenses['Savings']}). \"\n",
        "              f\"Great job saving {((savings - average_expenses['Savings']) / average_expenses['Savings']) * 100:.2f}% more!\")\n",
        "\n",
        "    # Category-wise analysis\n",
        "    user_expenses_by_category = {}\n",
        "    for expense in expenses:\n",
        "        category = expense[\"category\"]\n",
        "        user_expenses_by_category[category] = user_expenses_by_category.get(category, 0) + expense[\"amount\"]\n",
        "\n",
        "    for category, user_spent in user_expenses_by_category.items():\n",
        "        if category in average_expenses:\n",
        "            avg_spent = average_expenses[category]\n",
        "            if user_spent > avg_spent:\n",
        "                print(f\"- You are spending more on {category} (₹{user_spent}) compared to the average (₹{avg_spent}). \"\n",
        "                      f\"This is {((user_spent - avg_spent) / avg_spent) * 100:.2f}% higher.\")\n",
        "                if category in [\"Food\", \"Housing\", \"Transportation\"]:\n",
        "                    print(\"  Consider reviewing this expense, as it is a significant part of your budget.\")\n",
        "            elif user_spent < avg_spent:\n",
        "                print(f\"- You are spending less on {category} (₹{user_spent}) compared to the average (₹{avg_spent}). \"\n",
        "                      f\"This is {((avg_spent - user_spent) / avg_spent) * 100:.2f}% lower. Keep it up!\")\n",
        "        else:\n",
        "            print(f\"- No average data available for {category}.\")\n",
        "\n",
        "    # Additional observations for specific categories\n",
        "    if \"Tobacco products\" in user_expenses_by_category and user_expenses_by_category[\"Tobacco products\"] > 0:\n",
        "        print(\"- Consider reducing your expenditure on tobacco products for better health and financial benefits.\")\n",
        "\n",
        "    if \"Education\" in user_expenses_by_category and user_expenses_by_category[\"Education\"] < average_expenses[\"Education\"]:\n",
        "        print(\"- Investing in education is critical. Your spending on education is below average; consider allocating more.\")\n",
        "\n",
        "# Example usage\n",
        "add_expense(12000, \"Food\")\n",
        "add_expense(4000, \"Transportation\")\n",
        "add_expense(1500, \"Education\")\n",
        "add_expense(500, \"Alcoholic beverages\")\n",
        "add_expense(250, \"Tobacco products\")\n",
        "add_expense(3000, \"Housing\")\n"
      ],
      "metadata": {
        "id": "wlclqSo6xkOq",
        "colab": {
          "base_uri": "https://localhost:8080/"
        },
        "outputId": "0a236399-86e6-4831-a4fd-3aea58e619e9"
      },
      "execution_count": 2,
      "outputs": [
        {
          "output_type": "stream",
          "name": "stdout",
          "text": [
            "Expense added: {'amount': 12000, 'category': 'Food', 'date': '2024-11-27'}\n",
            "Expense added: {'amount': 4000, 'category': 'Transportation', 'date': '2024-11-27'}\n",
            "Expense added: {'amount': 1500, 'category': 'Education', 'date': '2024-11-27'}\n",
            "Expense added: {'amount': 500, 'category': 'Alcoholic beverages', 'date': '2024-11-27'}\n",
            "Expense added: {'amount': 250, 'category': 'Tobacco products', 'date': '2024-11-27'}\n",
            "Expense added: {'amount': 3000, 'category': 'Housing', 'date': '2024-11-27'}\n"
          ]
        }
      ]
    },
    {
      "cell_type": "code",
      "source": [
        "view_transactions()\n",
        "\n"
      ],
      "metadata": {
        "colab": {
          "base_uri": "https://localhost:8080/"
        },
        "id": "TvtkJqWLypmf",
        "outputId": "caf2378a-02df-4c93-90d0-4c3074d7f140"
      },
      "execution_count": 3,
      "outputs": [
        {
          "output_type": "stream",
          "name": "stdout",
          "text": [
            "1. Food - ₹12000 on 2024-11-27\n",
            "2. Transportation - ₹4000 on 2024-11-27\n",
            "3. Education - ₹1500 on 2024-11-27\n",
            "4. Alcoholic beverages - ₹500 on 2024-11-27\n",
            "5. Tobacco products - ₹250 on 2024-11-27\n",
            "6. Housing - ₹3000 on 2024-11-27\n"
          ]
        }
      ]
    },
    {
      "cell_type": "code",
      "source": [
        "\n",
        "generate_observations()\n"
      ],
      "metadata": {
        "colab": {
          "base_uri": "https://localhost:8080/"
        },
        "id": "jTdQXKbzyspR",
        "outputId": "7be62c4a-1e2b-49b5-a196-59a5067277d6"
      },
      "execution_count": null,
      "outputs": [
        {
          "output_type": "stream",
          "name": "stdout",
          "text": [
            "\n",
            "Observations:\n",
            "- Your savings (₹28750) are above the average savings (₹24480). Great job saving 17.44% more!\n",
            "- You are spending more on Food (₹12000) compared to the average (₹9985). This is 20.18% higher.\n",
            "  Consider reviewing this expense, as it is a significant part of your budget.\n",
            "- You are spending less on Transportation (₹4000) compared to the average (₹13174). This is 69.64% lower. Keep it up!\n",
            "- You are spending less on Education (₹1500) compared to the average (₹1656). This is 9.42% lower. Keep it up!\n",
            "- You are spending less on Alcoholic beverages (₹500) compared to the average (₹637). This is 21.51% lower. Keep it up!\n",
            "- You are spending less on Tobacco products (₹250) compared to the average (₹370). This is 32.43% lower. Keep it up!\n",
            "- You are spending less on Housing (₹3000) compared to the average (₹25436). This is 88.21% lower. Keep it up!\n",
            "- Consider reducing your expenditure on tobacco products for better health and financial benefits.\n",
            "- Investing in education is critical. Your spending on education is below average; consider allocating more.\n"
          ]
        }
      ]
    },
    {
      "cell_type": "code",
      "source": [
        "from datetime import datetime\n",
        "import matplotlib.pyplot as plt\n",
        "import numpy as np\n",
        "from typing import Dict, List, Tuple\n",
        "import io\n",
        "\n",
        "class SmartBudgetRecommender:\n",
        "    def __init__(self, user_salary: float, user_age: int, user_city: str):\n",
        "        self.user_salary = user_salary\n",
        "        self.user_age = user_age\n",
        "        self.user_city = user_city\n",
        "        self.expenses = []\n",
        "\n",
        "        # City-specific cost of living multipliers (example data - should be expanded with real data)\n",
        "        self.city_multipliers = {\n",
        "            \"Mumbai\": 1.2,\n",
        "            \"Delhi\": 1.1,\n",
        "            \"Bangalore\": 1.15,\n",
        "            \"Hyderabad\": 1.0,\n",
        "            \"Chennai\": 1.05\n",
        "        }\n",
        "\n",
        "        # Income brackets and their adjustment factors\n",
        "        self.income_brackets = {\n",
        "            (0, 30000): 0.8,\n",
        "            (30001, 60000): 1.0,\n",
        "            (60001, 100000): 1.2,\n",
        "            (100001, float('inf')): 1.4\n",
        "        }\n",
        "\n",
        "        # Essential vs Non-essential categories\n",
        "        self.essential_categories = {\n",
        "            \"Food\", \"Housing\", \"Transportation\", \"Healthcare\", \"Education\"\n",
        "        }\n",
        "\n",
        "        # Base average expenses (from your original code)\n",
        "        self.average_expenses = {\n",
        "            \"Food\": 9985,\n",
        "            \"Food at home\": 6053,\n",
        "            \"Food away from home\": 3933,\n",
        "            \"Housing\": 25436,\n",
        "            \"Transportation\": 13174,\n",
        "            \"Healthcare\": 6159,\n",
        "            \"Education\": 1656,\n",
        "            \"Entertainment\": 3635,\n",
        "            \"Personal care\": 950,\n",
        "            \"Savings\": 24480,\n",
        "            \"Alcoholic beverages\": 637,\n",
        "            \"Apparel and services\": 2041,\n",
        "            \"Tobacco products\": 370,\n",
        "            \"Cash contributions\": 2378\n",
        "        }\n",
        "\n",
        "    def get_income_multiplier(self) -> float:\n",
        "        \"\"\"Determine the income-based adjustment multiplier\"\"\"\n",
        "        for (lower, upper), multiplier in self.income_brackets.items():\n",
        "            if lower <= self.user_salary <= upper:\n",
        "                return multiplier\n",
        "        return 1.0\n",
        "\n",
        "    def get_city_multiplier(self) -> float:\n",
        "        \"\"\"Get city-specific cost of living multiplier\"\"\"\n",
        "        return self.city_multipliers.get(self.user_city, 1.0)\n",
        "\n",
        "    def calculate_recommended_budget(self) -> Dict[str, float]:\n",
        "        \"\"\"Calculate recommended budget based on income and location\"\"\"\n",
        "        income_mult = self.get_income_multiplier()\n",
        "        city_mult = self.get_city_multiplier()\n",
        "\n",
        "        recommended_budget = {}\n",
        "        for category, base_amount in self.average_expenses.items():\n",
        "            if category in self.essential_categories:\n",
        "                # Essential categories are less flexible\n",
        "                recommended_budget[category] = base_amount * city_mult\n",
        "            else:\n",
        "                # Non-essential categories scale more with income\n",
        "                recommended_budget[category] = base_amount * city_mult * income_mult\n",
        "\n",
        "        return recommended_budget\n",
        "\n",
        "    def identify_savings_opportunities(self) -> List[Dict]:\n",
        "        \"\"\"Identify potential savings opportunities\"\"\"\n",
        "        current_spending = self.get_current_spending()\n",
        "        recommended_budget = self.calculate_recommended_budget()\n",
        "        opportunities = []\n",
        "        for category, current_amount in current_spending.items():\n",
        "            recommended = recommended_budget.get(category, 0)\n",
        "            if current_amount > recommended:\n",
        "                excess = current_amount - recommended\n",
        "                if category not in self.essential_categories:\n",
        "                    opportunity = {\n",
        "                        \"category\": category,\n",
        "                        \"current_spending\": current_amount,\n",
        "                        \"recommended\": recommended,\n",
        "                        \"potential_savings\": excess,\n",
        "                        \"priority\": \"High\" if excess > recommended * 0.5 else \"Medium\"\n",
        "                    }\n",
        "                    opportunities.append(opportunity)\n",
        "\n",
        "        return sorted(opportunities, key=lambda x: x[\"potential_savings\"], reverse=True)\n",
        "\n",
        "    def generate_what_if_scenarios(self) -> List[Dict]:\n",
        "        \"\"\"Generate what-if scenarios for different budget strategies\"\"\"\n",
        "        current_spending = self.get_current_spending()\n",
        "        total_current = sum(current_spending.values())\n",
        "\n",
        "        scenarios = []\n",
        "\n",
        "        # Scenario 1: Reduce all non-essential spending by 20%\n",
        "        scenario_1_savings = 0\n",
        "        for category, amount in current_spending.items():\n",
        "            if category not in self.essential_categories:\n",
        "                scenario_1_savings += amount * 0.2\n",
        "\n",
        "        scenarios.append({\n",
        "            \"name\": \"Reduce non-essential spending by 20%\",\n",
        "            \"monthly_savings\": scenario_1_savings,\n",
        "            \"annual_savings\": scenario_1_savings * 12,\n",
        "            \"difficulty\": \"Medium\",\n",
        "            \"impact_on_lifestyle\": \"Moderate\"\n",
        "        })\n",
        "\n",
        "        # Scenario 2: Eliminate luxury categories\n",
        "        luxury_savings = sum(\n",
        "            amount for category, amount in current_spending.items()\n",
        "            if category in [\"Alcoholic beverages\", \"Tobacco products\"]\n",
        "        )\n",
        "\n",
        "        scenarios.append({\n",
        "            \"name\": \"Eliminate luxury expenses\",\n",
        "            \"monthly_savings\": luxury_savings,\n",
        "            \"annual_savings\": luxury_savings * 12,\n",
        "            \"difficulty\": \"High\",\n",
        "            \"impact_on_lifestyle\": \"Significant\"\n",
        "        })\n",
        "\n",
        "        # Scenario 3: Optimize essential spending\n",
        "        essential_optimization = sum(\n",
        "            amount * 0.1\n",
        "            for category, amount in current_spending.items()\n",
        "            if category in self.essential_categories\n",
        "        )\n",
        "\n",
        "        scenarios.append({\n",
        "            \"name\": \"Optimize essential expenses by 10%\",\n",
        "            \"monthly_savings\": essential_optimization,\n",
        "            \"annual_savings\": essential_optimization * 12,\n",
        "            \"difficulty\": \"Medium\",\n",
        "            \"impact_on_lifestyle\": \"Low\"\n",
        "        })\n",
        "\n",
        "        return scenarios\n",
        "\n",
        "    def get_current_spending(self) -> Dict[str, float]:\n",
        "        \"\"\"Calculate current spending by category\"\"\"\n",
        "        current_spending = {}\n",
        "        for expense in self.expenses:\n",
        "            category = expense[\"category\"]\n",
        "            amount = expense[\"amount\"]\n",
        "            current_spending[category] = current_spending.get(category, 0) + amount\n",
        "        return current_spending\n",
        "\n",
        "    def add_expense(self, amount: float, category: str, date: str = None):\n",
        "        \"\"\"Add an expense\"\"\"\n",
        "        if date is None:\n",
        "            date = datetime.now().strftime(\"%Y-%m-%d\")\n",
        "        expense = {\n",
        "            \"amount\": amount,\n",
        "            \"category\": category,\n",
        "            \"date\": date\n",
        "        }\n",
        "        self.expenses.append(expense)\n",
        "    def generate_budget_report(self):\n",
        "        \"\"\"Generate a comprehensive budget report and return as a string\"\"\"\n",
        "        # Create a StringIO object to capture printed output\n",
        "        report_buffer = io.StringIO()\n",
        "\n",
        "        # Redirect prints to the StringIO buffer\n",
        "        print(\"\\n=== Smart Budget Analysis Report ===\", file=report_buffer)\n",
        "        print(f\"\\nBased on your profile:\", file=report_buffer)\n",
        "        print(f\"- Salary: ₹{self.user_salary}\", file=report_buffer)\n",
        "        print(f\"- City: {self.user_city}\", file=report_buffer)\n",
        "\n",
        "        recommended_budget = self.calculate_recommended_budget()\n",
        "        current_spending = self.get_current_spending()\n",
        "        savings_opportunities = self.identify_savings_opportunities()\n",
        "        what_if_scenarios = self.generate_what_if_scenarios()\n",
        "\n",
        "        print(\"\\n1. Current vs Recommended Budget:\", file=report_buffer)\n",
        "        for category in recommended_budget.keys():\n",
        "            current = current_spending.get(category, 0)\n",
        "            recommended = recommended_budget[category]\n",
        "            diff_percent = ((current - recommended) / recommended * 100) if recommended > 0 else 0\n",
        "            print(f\"\\n{category}:\", file=report_buffer)\n",
        "            print(f\"  Current: ₹{current:,.2f}\", file=report_buffer)\n",
        "            print(f\"  Recommended: ₹{recommended:,.2f}\", file=report_buffer)\n",
        "            print(f\"  Difference: {diff_percent:+.1f}%\", file=report_buffer)\n",
        "\n",
        "        print(\"\\n2. Savings Opportunities:\", file=report_buffer)\n",
        "        for opp in savings_opportunities:\n",
        "            print(f\"\\n{opp['category']}:\", file=report_buffer)\n",
        "            print(f\"  Potential monthly savings: ₹{opp['potential_savings']:,.2f}\", file=report_buffer)\n",
        "            print(f\"  Priority: {opp['priority']}\", file=report_buffer)\n",
        "\n",
        "        print(\"\\n3. What-if Scenarios:\", file=report_buffer)\n",
        "        for scenario in what_if_scenarios:\n",
        "            print(f\"\\n{scenario['name']}:\", file=report_buffer)\n",
        "            print(f\"  Monthly savings: ₹{scenario['monthly_savings']:,.2f}\", file=report_buffer)\n",
        "            print(f\"  Annual savings: ₹{scenario['annual_savings']:,.2f}\", file=report_buffer)\n",
        "            print(f\"  Difficulty: {scenario['difficulty']}\", file=report_buffer)\n",
        "            print(f\"  Lifestyle Impact: {scenario['impact_on_lifestyle']}\", file=report_buffer)\n",
        "\n",
        "        # Get the entire content of the buffer as a string\n",
        "        report_string = report_buffer.getvalue()\n",
        "\n",
        "        # Close the buffer\n",
        "        report_buffer.close()\n",
        "\n",
        "        # Return the concatenated string\n",
        "        return report_string\n",
        "\n",
        "\n",
        "budget_recommender = SmartBudgetRecommender(\n",
        "    user_salary=50000,\n",
        "    user_age=25,\n",
        "    user_city=\"Mumbai\"\n",
        ")\n",
        "\n",
        "# Add some example expenses\n",
        "budget_recommender.add_expense(12000, \"Food\")\n",
        "budget_recommender.add_expense(4000, \"Transportation\")\n",
        "budget_recommender.add_expense(1500, \"Education\")\n",
        "budget_recommender.add_expense(500, \"Alcoholic beverages\")\n",
        "budget_recommender.add_expense(25999990, \"Tobacco products\")\n",
        "budget_recommender.add_expense(3000, \"Housing\")\n",
        "\n",
        "# Generate and display the budget report\n",
        "customer_details=budget_recommender.generate_budget_report()"
      ],
      "metadata": {
        "id": "AJUG5gqIEyDs",
        "collapsed": true
      },
      "execution_count": 60,
      "outputs": []
    },
    {
      "cell_type": "code",
      "source": [
        "content"
      ],
      "metadata": {
        "colab": {
          "base_uri": "https://localhost:8080/",
          "height": 235
        },
        "id": "RTSa7EyV6YoE",
        "outputId": "6c3a7a0c-2b57-45f4-c425-2807f98e8d06"
      },
      "execution_count": 30,
      "outputs": [
        {
          "output_type": "execute_result",
          "data": {
            "text/plain": [
              "'\\n=== Smart Budget Analysis Report ===\\n\\nBased on your profile:\\n- Salary: ₹50000\\n- City: Hyderabad\\n\\n1. Current vs Recommended Budget:\\n\\nFood:\\n  Current: ₹12,000.00\\n  Recommended: ₹9,985.00\\n  Difference: +20.2%\\n\\nFood at home:\\n  Current: ₹0.00\\n  Recommended: ₹6,053.00\\n  Difference: -100.0%\\n\\nFood away from home:\\n  Current: ₹0.00\\n  Recommended: ₹3,933.00\\n  Difference: -100.0%\\n\\nHousing:\\n  Current: ₹3,000.00\\n  Recommended: ₹25,436.00\\n  Difference: -88.2%\\n\\nTransportation:\\n  Current: ₹4,000.00\\n  Recommended: ₹13,174.00\\n  Difference: -69.6%\\n\\nHealthcare:\\n  Current: ₹0.00\\n  Recommended: ₹6,159.00\\n  Difference: -100.0%\\n\\nEducation:\\n  Current: ₹1,500.00\\n  Recommended: ₹1,656.00\\n  Difference: -9.4%\\n\\nEntertainment:\\n  Current: ₹0.00\\n  Recommended: ₹3,635.00\\n  Difference: -100.0%\\n\\nPersonal care:\\n  Current: ₹0.00\\n  Recommended: ₹950.00\\n  Difference: -100.0%\\n\\nSavings:\\n  Current: ₹0.00\\n  Recommended: ₹24,480.00\\n  Difference: -100.0%\\n\\nAlcoholic beverages:\\n  Current: ₹500.00\\n  Recommended: ₹637.00\\n  Difference: -21.5%\\n\\nApparel and services:\\n  Current: ₹0.00\\n  Recommended: ₹2,041.00\\n  Difference: -100.0%\\n\\nTobacco products:\\n  Current: ₹25,999,990.00\\n  Recommended: ₹370.00\\n  Difference: +7026924.3%\\n\\nCash contributions:\\n  Current: ₹0.00\\n  Recommended: ₹2,378.00\\n  Difference: -100.0%\\n\\n2. Savings Opportunities:\\n\\nTobacco products:\\n  Potential monthly savings: ₹25,999,620.00\\n  Priority: High\\n\\n3. What-if Scenarios:\\n\\nReduce non-essential spending by 20%:\\n  Monthly savings: ₹5,200,098.00\\n  Annual savings: ₹62,401,176.00\\n  Difficulty: Medium\\n  Lifestyle Impact: Moderate\\n\\nEliminate luxury expenses:\\n  Monthly savings: ₹26,000,490.00\\n  Annual savings: ₹312,005,880.00\\n  Difficulty: High\\n  Lifestyle Impact: Significant\\n\\nOptimize essential expenses by 10%:\\n  Monthly savings: ₹2,050.00\\n  Annual savings: ₹24,600.00\\n  Difficulty: Medium\\n  Lifestyle Impact: Low\\n'"
            ],
            "application/vnd.google.colaboratory.intrinsic+json": {
              "type": "string"
            }
          },
          "metadata": {},
          "execution_count": 30
        }
      ]
    },
    {
      "cell_type": "code",
      "source": [
        "%pip install -qU langchain_community pypdf"
      ],
      "metadata": {
        "colab": {
          "base_uri": "https://localhost:8080/"
        },
        "collapsed": true,
        "id": "XxffIdvBh2CT",
        "outputId": "5d462f90-cafe-4778-ae5a-d9835bc89ca2"
      },
      "execution_count": 5,
      "outputs": [
        {
          "output_type": "stream",
          "name": "stdout",
          "text": [
            "\u001b[?25l   \u001b[90m━━━━━━━━━━━━━━━━━━━━━━━━━━━━━━━━━━━━━━━━\u001b[0m \u001b[32m0.0/2.4 MB\u001b[0m \u001b[31m?\u001b[0m eta \u001b[36m-:--:--\u001b[0m\r\u001b[2K   \u001b[91m━━━━━━━━\u001b[0m\u001b[91m╸\u001b[0m\u001b[90m━━━━━━━━━━━━━━━━━━━━━━━━━━━━━━━\u001b[0m \u001b[32m0.5/2.4 MB\u001b[0m \u001b[31m15.7 MB/s\u001b[0m eta \u001b[36m0:00:01\u001b[0m\r\u001b[2K   \u001b[91m━━━━━━━━━━━━━━━━━━━━━━━━━━━━━━━━━━━━━━━\u001b[0m\u001b[91m╸\u001b[0m \u001b[32m2.4/2.4 MB\u001b[0m \u001b[31m39.7 MB/s\u001b[0m eta \u001b[36m0:00:01\u001b[0m\r\u001b[2K   \u001b[90m━━━━━━━━━━━━━━━━━━━━━━━━━━━━━━━━━━━━━━━━\u001b[0m \u001b[32m2.4/2.4 MB\u001b[0m \u001b[31m26.9 MB/s\u001b[0m eta \u001b[36m0:00:00\u001b[0m\n",
            "\u001b[2K   \u001b[90m━━━━━━━━━━━━━━━━━━━━━━━━━━━━━━━━━━━━━━━━\u001b[0m \u001b[32m298.0/298.0 kB\u001b[0m \u001b[31m16.4 MB/s\u001b[0m eta \u001b[36m0:00:00\u001b[0m\n",
            "\u001b[2K   \u001b[90m━━━━━━━━━━━━━━━━━━━━━━━━━━━━━━━━━━━━━━━━\u001b[0m \u001b[32m1.0/1.0 MB\u001b[0m \u001b[31m36.5 MB/s\u001b[0m eta \u001b[36m0:00:00\u001b[0m\n",
            "\u001b[2K   \u001b[90m━━━━━━━━━━━━━━━━━━━━━━━━━━━━━━━━━━━━━━━━\u001b[0m \u001b[32m409.5/409.5 kB\u001b[0m \u001b[31m20.7 MB/s\u001b[0m eta \u001b[36m0:00:00\u001b[0m\n",
            "\u001b[2K   \u001b[90m━━━━━━━━━━━━━━━━━━━━━━━━━━━━━━━━━━━━━━━━\u001b[0m \u001b[32m3.1/3.1 MB\u001b[0m \u001b[31m57.9 MB/s\u001b[0m eta \u001b[36m0:00:00\u001b[0m\n",
            "\u001b[2K   \u001b[90m━━━━━━━━━━━━━━━━━━━━━━━━━━━━━━━━━━━━━━━━\u001b[0m \u001b[32m49.5/49.5 kB\u001b[0m \u001b[31m3.4 MB/s\u001b[0m eta \u001b[36m0:00:00\u001b[0m\n",
            "\u001b[?25h"
          ]
        }
      ]
    },
    {
      "cell_type": "code",
      "source": [
        "pip install rapidocr-onnxruntime"
      ],
      "metadata": {
        "collapsed": true,
        "id": "kb8XYHYeh8Um",
        "colab": {
          "base_uri": "https://localhost:8080/"
        },
        "outputId": "86500691-92a0-4446-aa0d-80a8dbeffaeb"
      },
      "execution_count": 7,
      "outputs": [
        {
          "output_type": "stream",
          "name": "stdout",
          "text": [
            "Collecting rapidocr-onnxruntime\n",
            "  Downloading rapidocr_onnxruntime-1.4.0-py3-none-any.whl.metadata (1.3 kB)\n",
            "Collecting pyclipper>=1.2.0 (from rapidocr-onnxruntime)\n",
            "  Downloading pyclipper-1.3.0.post6-cp310-cp310-manylinux_2_12_x86_64.manylinux2010_x86_64.whl.metadata (9.0 kB)\n",
            "Requirement already satisfied: opencv-python>=4.5.1.48 in /usr/local/lib/python3.10/dist-packages (from rapidocr-onnxruntime) (4.10.0.84)\n",
            "Requirement already satisfied: numpy<3.0.0,>=1.19.5 in /usr/local/lib/python3.10/dist-packages (from rapidocr-onnxruntime) (1.26.4)\n",
            "Requirement already satisfied: six>=1.15.0 in /usr/local/lib/python3.10/dist-packages (from rapidocr-onnxruntime) (1.16.0)\n",
            "Requirement already satisfied: Shapely!=2.0.4,>=1.7.1 in /usr/local/lib/python3.10/dist-packages (from rapidocr-onnxruntime) (2.0.6)\n",
            "Requirement already satisfied: PyYAML in /usr/local/lib/python3.10/dist-packages (from rapidocr-onnxruntime) (6.0.2)\n",
            "Requirement already satisfied: Pillow in /usr/local/lib/python3.10/dist-packages (from rapidocr-onnxruntime) (11.0.0)\n",
            "Collecting onnxruntime>=1.7.0 (from rapidocr-onnxruntime)\n",
            "  Downloading onnxruntime-1.20.1-cp310-cp310-manylinux_2_27_x86_64.manylinux_2_28_x86_64.whl.metadata (4.5 kB)\n",
            "Requirement already satisfied: tqdm in /usr/local/lib/python3.10/dist-packages (from rapidocr-onnxruntime) (4.66.6)\n",
            "Collecting coloredlogs (from onnxruntime>=1.7.0->rapidocr-onnxruntime)\n",
            "  Downloading coloredlogs-15.0.1-py2.py3-none-any.whl.metadata (12 kB)\n",
            "Requirement already satisfied: flatbuffers in /usr/local/lib/python3.10/dist-packages (from onnxruntime>=1.7.0->rapidocr-onnxruntime) (24.3.25)\n",
            "Requirement already satisfied: packaging in /usr/local/lib/python3.10/dist-packages (from onnxruntime>=1.7.0->rapidocr-onnxruntime) (24.2)\n",
            "Requirement already satisfied: protobuf in /usr/local/lib/python3.10/dist-packages (from onnxruntime>=1.7.0->rapidocr-onnxruntime) (4.25.5)\n",
            "Requirement already satisfied: sympy in /usr/local/lib/python3.10/dist-packages (from onnxruntime>=1.7.0->rapidocr-onnxruntime) (1.13.1)\n",
            "Collecting humanfriendly>=9.1 (from coloredlogs->onnxruntime>=1.7.0->rapidocr-onnxruntime)\n",
            "  Downloading humanfriendly-10.0-py2.py3-none-any.whl.metadata (9.2 kB)\n",
            "Requirement already satisfied: mpmath<1.4,>=1.1.0 in /usr/local/lib/python3.10/dist-packages (from sympy->onnxruntime>=1.7.0->rapidocr-onnxruntime) (1.3.0)\n",
            "Downloading rapidocr_onnxruntime-1.4.0-py3-none-any.whl (14.9 MB)\n",
            "\u001b[2K   \u001b[90m━━━━━━━━━━━━━━━━━━━━━━━━━━━━━━━━━━━━━━━━\u001b[0m \u001b[32m14.9/14.9 MB\u001b[0m \u001b[31m51.9 MB/s\u001b[0m eta \u001b[36m0:00:00\u001b[0m\n",
            "\u001b[?25hDownloading onnxruntime-1.20.1-cp310-cp310-manylinux_2_27_x86_64.manylinux_2_28_x86_64.whl (13.3 MB)\n",
            "\u001b[2K   \u001b[90m━━━━━━━━━━━━━━━━━━━━━━━━━━━━━━━━━━━━━━━━\u001b[0m \u001b[32m13.3/13.3 MB\u001b[0m \u001b[31m38.4 MB/s\u001b[0m eta \u001b[36m0:00:00\u001b[0m\n",
            "\u001b[?25hDownloading pyclipper-1.3.0.post6-cp310-cp310-manylinux_2_12_x86_64.manylinux2010_x86_64.whl (912 kB)\n",
            "\u001b[2K   \u001b[90m━━━━━━━━━━━━━━━━━━━━━━━━━━━━━━━━━━━━━━━━\u001b[0m \u001b[32m912.2/912.2 kB\u001b[0m \u001b[31m19.2 MB/s\u001b[0m eta \u001b[36m0:00:00\u001b[0m\n",
            "\u001b[?25hDownloading coloredlogs-15.0.1-py2.py3-none-any.whl (46 kB)\n",
            "\u001b[2K   \u001b[90m━━━━━━━━━━━━━━━━━━━━━━━━━━━━━━━━━━━━━━━━\u001b[0m \u001b[32m46.0/46.0 kB\u001b[0m \u001b[31m2.5 MB/s\u001b[0m eta \u001b[36m0:00:00\u001b[0m\n",
            "\u001b[?25hDownloading humanfriendly-10.0-py2.py3-none-any.whl (86 kB)\n",
            "\u001b[2K   \u001b[90m━━━━━━━━━━━━━━━━━━━━━━━━━━━━━━━━━━━━━━━━\u001b[0m \u001b[32m86.8/86.8 kB\u001b[0m \u001b[31m4.2 MB/s\u001b[0m eta \u001b[36m0:00:00\u001b[0m\n",
            "\u001b[?25hInstalling collected packages: pyclipper, humanfriendly, coloredlogs, onnxruntime, rapidocr-onnxruntime\n",
            "Successfully installed coloredlogs-15.0.1 humanfriendly-10.0 onnxruntime-1.20.1 pyclipper-1.3.0.post6 rapidocr-onnxruntime-1.4.0\n"
          ]
        }
      ]
    },
    {
      "cell_type": "code",
      "source": [
        "pip install langchain langchain_community"
      ],
      "metadata": {
        "collapsed": true,
        "id": "AU6XlHtqiBut",
        "colab": {
          "base_uri": "https://localhost:8080/"
        },
        "outputId": "b23a4102-e573-4337-8936-6883f5d8f21e"
      },
      "execution_count": 6,
      "outputs": [
        {
          "output_type": "stream",
          "name": "stdout",
          "text": [
            "Requirement already satisfied: langchain in /usr/local/lib/python3.10/dist-packages (0.3.8)\n",
            "Requirement already satisfied: langchain_community in /usr/local/lib/python3.10/dist-packages (0.3.8)\n",
            "Requirement already satisfied: PyYAML>=5.3 in /usr/local/lib/python3.10/dist-packages (from langchain) (6.0.2)\n",
            "Requirement already satisfied: SQLAlchemy<3,>=1.4 in /usr/local/lib/python3.10/dist-packages (from langchain) (2.0.35)\n",
            "Requirement already satisfied: aiohttp<4.0.0,>=3.8.3 in /usr/local/lib/python3.10/dist-packages (from langchain) (3.11.2)\n",
            "Requirement already satisfied: async-timeout<5.0.0,>=4.0.0 in /usr/local/lib/python3.10/dist-packages (from langchain) (4.0.3)\n",
            "Requirement already satisfied: langchain-core<0.4.0,>=0.3.21 in /usr/local/lib/python3.10/dist-packages (from langchain) (0.3.21)\n",
            "Requirement already satisfied: langchain-text-splitters<0.4.0,>=0.3.0 in /usr/local/lib/python3.10/dist-packages (from langchain) (0.3.2)\n",
            "Requirement already satisfied: langsmith<0.2.0,>=0.1.17 in /usr/local/lib/python3.10/dist-packages (from langchain) (0.1.143)\n",
            "Requirement already satisfied: numpy<2,>=1.22.4 in /usr/local/lib/python3.10/dist-packages (from langchain) (1.26.4)\n",
            "Requirement already satisfied: pydantic<3.0.0,>=2.7.4 in /usr/local/lib/python3.10/dist-packages (from langchain) (2.9.2)\n",
            "Requirement already satisfied: requests<3,>=2 in /usr/local/lib/python3.10/dist-packages (from langchain) (2.32.3)\n",
            "Requirement already satisfied: tenacity!=8.4.0,<10,>=8.1.0 in /usr/local/lib/python3.10/dist-packages (from langchain) (9.0.0)\n",
            "Requirement already satisfied: dataclasses-json<0.7,>=0.5.7 in /usr/local/lib/python3.10/dist-packages (from langchain_community) (0.6.7)\n",
            "Requirement already satisfied: httpx-sse<0.5.0,>=0.4.0 in /usr/local/lib/python3.10/dist-packages (from langchain_community) (0.4.0)\n",
            "Requirement already satisfied: pydantic-settings<3.0.0,>=2.4.0 in /usr/local/lib/python3.10/dist-packages (from langchain_community) (2.6.1)\n",
            "Requirement already satisfied: aiohappyeyeballs>=2.3.0 in /usr/local/lib/python3.10/dist-packages (from aiohttp<4.0.0,>=3.8.3->langchain) (2.4.3)\n",
            "Requirement already satisfied: aiosignal>=1.1.2 in /usr/local/lib/python3.10/dist-packages (from aiohttp<4.0.0,>=3.8.3->langchain) (1.3.1)\n",
            "Requirement already satisfied: attrs>=17.3.0 in /usr/local/lib/python3.10/dist-packages (from aiohttp<4.0.0,>=3.8.3->langchain) (24.2.0)\n",
            "Requirement already satisfied: frozenlist>=1.1.1 in /usr/local/lib/python3.10/dist-packages (from aiohttp<4.0.0,>=3.8.3->langchain) (1.5.0)\n",
            "Requirement already satisfied: multidict<7.0,>=4.5 in /usr/local/lib/python3.10/dist-packages (from aiohttp<4.0.0,>=3.8.3->langchain) (6.1.0)\n",
            "Requirement already satisfied: propcache>=0.2.0 in /usr/local/lib/python3.10/dist-packages (from aiohttp<4.0.0,>=3.8.3->langchain) (0.2.0)\n",
            "Requirement already satisfied: yarl<2.0,>=1.17.0 in /usr/local/lib/python3.10/dist-packages (from aiohttp<4.0.0,>=3.8.3->langchain) (1.17.2)\n",
            "Requirement already satisfied: marshmallow<4.0.0,>=3.18.0 in /usr/local/lib/python3.10/dist-packages (from dataclasses-json<0.7,>=0.5.7->langchain_community) (3.23.1)\n",
            "Requirement already satisfied: typing-inspect<1,>=0.4.0 in /usr/local/lib/python3.10/dist-packages (from dataclasses-json<0.7,>=0.5.7->langchain_community) (0.9.0)\n",
            "Requirement already satisfied: jsonpatch<2.0,>=1.33 in /usr/local/lib/python3.10/dist-packages (from langchain-core<0.4.0,>=0.3.21->langchain) (1.33)\n",
            "Requirement already satisfied: packaging<25,>=23.2 in /usr/local/lib/python3.10/dist-packages (from langchain-core<0.4.0,>=0.3.21->langchain) (24.2)\n",
            "Requirement already satisfied: typing-extensions>=4.7 in /usr/local/lib/python3.10/dist-packages (from langchain-core<0.4.0,>=0.3.21->langchain) (4.12.2)\n",
            "Requirement already satisfied: httpx<1,>=0.23.0 in /usr/local/lib/python3.10/dist-packages (from langsmith<0.2.0,>=0.1.17->langchain) (0.27.2)\n",
            "Requirement already satisfied: orjson<4.0.0,>=3.9.14 in /usr/local/lib/python3.10/dist-packages (from langsmith<0.2.0,>=0.1.17->langchain) (3.10.11)\n",
            "Requirement already satisfied: requests-toolbelt<2.0.0,>=1.0.0 in /usr/local/lib/python3.10/dist-packages (from langsmith<0.2.0,>=0.1.17->langchain) (1.0.0)\n",
            "Requirement already satisfied: annotated-types>=0.6.0 in /usr/local/lib/python3.10/dist-packages (from pydantic<3.0.0,>=2.7.4->langchain) (0.7.0)\n",
            "Requirement already satisfied: pydantic-core==2.23.4 in /usr/local/lib/python3.10/dist-packages (from pydantic<3.0.0,>=2.7.4->langchain) (2.23.4)\n",
            "Requirement already satisfied: python-dotenv>=0.21.0 in /usr/local/lib/python3.10/dist-packages (from pydantic-settings<3.0.0,>=2.4.0->langchain_community) (1.0.1)\n",
            "Requirement already satisfied: charset-normalizer<4,>=2 in /usr/local/lib/python3.10/dist-packages (from requests<3,>=2->langchain) (3.4.0)\n",
            "Requirement already satisfied: idna<4,>=2.5 in /usr/local/lib/python3.10/dist-packages (from requests<3,>=2->langchain) (3.10)\n",
            "Requirement already satisfied: urllib3<3,>=1.21.1 in /usr/local/lib/python3.10/dist-packages (from requests<3,>=2->langchain) (2.2.3)\n",
            "Requirement already satisfied: certifi>=2017.4.17 in /usr/local/lib/python3.10/dist-packages (from requests<3,>=2->langchain) (2024.8.30)\n",
            "Requirement already satisfied: greenlet!=0.4.17 in /usr/local/lib/python3.10/dist-packages (from SQLAlchemy<3,>=1.4->langchain) (3.1.1)\n",
            "Requirement already satisfied: anyio in /usr/local/lib/python3.10/dist-packages (from httpx<1,>=0.23.0->langsmith<0.2.0,>=0.1.17->langchain) (3.7.1)\n",
            "Requirement already satisfied: httpcore==1.* in /usr/local/lib/python3.10/dist-packages (from httpx<1,>=0.23.0->langsmith<0.2.0,>=0.1.17->langchain) (1.0.7)\n",
            "Requirement already satisfied: sniffio in /usr/local/lib/python3.10/dist-packages (from httpx<1,>=0.23.0->langsmith<0.2.0,>=0.1.17->langchain) (1.3.1)\n",
            "Requirement already satisfied: h11<0.15,>=0.13 in /usr/local/lib/python3.10/dist-packages (from httpcore==1.*->httpx<1,>=0.23.0->langsmith<0.2.0,>=0.1.17->langchain) (0.14.0)\n",
            "Requirement already satisfied: jsonpointer>=1.9 in /usr/local/lib/python3.10/dist-packages (from jsonpatch<2.0,>=1.33->langchain-core<0.4.0,>=0.3.21->langchain) (3.0.0)\n",
            "Requirement already satisfied: mypy-extensions>=0.3.0 in /usr/local/lib/python3.10/dist-packages (from typing-inspect<1,>=0.4.0->dataclasses-json<0.7,>=0.5.7->langchain_community) (1.0.0)\n",
            "Requirement already satisfied: exceptiongroup in /usr/local/lib/python3.10/dist-packages (from anyio->httpx<1,>=0.23.0->langsmith<0.2.0,>=0.1.17->langchain) (1.2.2)\n"
          ]
        }
      ]
    },
    {
      "cell_type": "code",
      "source": [
        "LANGCHAIN_API_KEY=\"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\""
      ],
      "metadata": {
        "id": "lmpn0YUXiGiT"
      },
      "execution_count": null,
      "outputs": []
    },
    {
      "cell_type": "code",
      "source": [
        "pip install -qU langchain-groq\n"
      ],
      "metadata": {
        "id": "8JqcsH_ziKsp"
      },
      "execution_count": null,
      "outputs": []
    },
    {
      "cell_type": "code",
      "source": [
        "import getpass\n",
        "import os\n",
        "\n",
        "os.environ[\"GROQ_API_KEY\"] = \"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\"\n",
        "\n",
        "from langchain_groq import ChatGroq\n",
        "\n",
        "llm = ChatGroq(model=\"llama3-8b-8192\")"
      ],
      "metadata": {
        "id": "QykccUdkiQDN"
      },
      "execution_count": null,
      "outputs": []
    },
    {
      "cell_type": "code",
      "source": [
        "from langchain_community.document_loaders import PyPDFLoader\n",
        "\n",
        "\n",
        "pdf_file_paths = [\n",
        "    \"/content/drive/MyDrive/Moneydoc.pdf\",\n",
        "]\n",
        "docs=[]\n",
        "for pdf_file_path in pdf_file_paths:\n",
        "  loader = PyPDFLoader(pdf_file_path)\n",
        "  docs = loader.load()\n",
        "  docs.append(docs)\n",
        "len(docs)"
      ],
      "metadata": {
        "id": "j07kuByRiZ4E"
      },
      "execution_count": null,
      "outputs": []
    },
    {
      "cell_type": "code",
      "source": [
        "docs = docs[:-1]"
      ],
      "metadata": {
        "collapsed": true,
        "id": "wymN-Rra0L-Z"
      },
      "execution_count": null,
      "outputs": []
    },
    {
      "cell_type": "code",
      "source": [
        "page_contents=[]\n",
        "for doc in docs:\n",
        "  page_contents.append(doc.page_content)\n"
      ],
      "metadata": {
        "id": "fKDTIHQjzpVf"
      },
      "execution_count": null,
      "outputs": []
    },
    {
      "cell_type": "code",
      "source": [
        "combined_text = \"\\n\\n\".join([f\"Page {i + 1}\\n{page}\" for i, page in enumerate(page_contents)])\n"
      ],
      "metadata": {
        "id": "0aDso1jF4Eii"
      },
      "execution_count": null,
      "outputs": []
    },
    {
      "cell_type": "code",
      "source": [
        "combined_text"
      ],
      "metadata": {
        "collapsed": true,
        "id": "gjnEmKef4Iv9"
      },
      "execution_count": null,
      "outputs": []
    },
    {
      "cell_type": "code",
      "source": [
        "!pip install --quiet langchain_experimental\n",
        "%pip install --upgrade --quiet  sentence_transformers > /dev/null"
      ],
      "metadata": {
        "id": "jZlTikM3jEL7",
        "colab": {
          "base_uri": "https://localhost:8080/"
        },
        "outputId": "b6a4aa79-64f9-4f50-aabc-1243a1d8555d"
      },
      "execution_count": 8,
      "outputs": [
        {
          "output_type": "stream",
          "name": "stdout",
          "text": [
            "\u001b[?25l   \u001b[90m━━━━━━━━━━━━━━━━━━━━━━━━━━━━━━━━━━━━━━━━\u001b[0m \u001b[32m0.0/209.0 kB\u001b[0m \u001b[31m?\u001b[0m eta \u001b[36m-:--:--\u001b[0m\r\u001b[2K   \u001b[91m━━━━━━━━━━━━━━━━━━━━━━━━━━━━━━━━━━━\u001b[0m\u001b[90m╺\u001b[0m\u001b[90m━━━━\u001b[0m \u001b[32m184.3/209.0 kB\u001b[0m \u001b[31m4.1 MB/s\u001b[0m eta \u001b[36m0:00:01\u001b[0m\r\u001b[2K   \u001b[90m━━━━━━━━━━━━━━━━━━━━━━━━━━━━━━━━━━━━━━━━\u001b[0m \u001b[32m209.0/209.0 kB\u001b[0m \u001b[31m3.1 MB/s\u001b[0m eta \u001b[36m0:00:00\u001b[0m\n",
            "\u001b[?25h"
          ]
        }
      ]
    },
    {
      "cell_type": "code",
      "source": [
        "!pip install -qU \"langchain-pinecone>=0.2.0\""
      ],
      "metadata": {
        "id": "CKNxt4fYjJRn",
        "colab": {
          "base_uri": "https://localhost:8080/"
        },
        "outputId": "4cb5f746-bf67-4224-84b4-73676a19eda0"
      },
      "execution_count": 9,
      "outputs": [
        {
          "output_type": "stream",
          "name": "stdout",
          "text": [
            "\u001b[?25l   \u001b[90m━━━━━━━━━━━━━━━━━━━━━━━━━━━━━━━━━━━━━━━━\u001b[0m \u001b[32m0.0/1.2 MB\u001b[0m \u001b[31m?\u001b[0m eta \u001b[36m-:--:--\u001b[0m\r\u001b[2K   \u001b[91m━━━━━━━━━━━━━\u001b[0m\u001b[90m╺\u001b[0m\u001b[90m━━━━━━━━━━━━━━━━━━━━━━━━━━\u001b[0m \u001b[32m0.4/1.2 MB\u001b[0m \u001b[31m12.3 MB/s\u001b[0m eta \u001b[36m0:00:01\u001b[0m\r\u001b[2K   \u001b[91m━━━━━━━━━━━━━━━━━━━━━━━━━━━━━━━━━━━━━━━\u001b[0m\u001b[91m╸\u001b[0m \u001b[32m1.2/1.2 MB\u001b[0m \u001b[31m22.5 MB/s\u001b[0m eta \u001b[36m0:00:01\u001b[0m\r\u001b[2K   \u001b[90m━━━━━━━━━━━━━━━━━━━━━━━━━━━━━━━━━━━━━━━━\u001b[0m \u001b[32m1.2/1.2 MB\u001b[0m \u001b[31m16.2 MB/s\u001b[0m eta \u001b[36m0:00:00\u001b[0m\n",
            "\u001b[?25h\u001b[?25l   \u001b[90m━━━━━━━━━━━━━━━━━━━━━━━━━━━━━━━━━━━━━━━━\u001b[0m \u001b[32m0.0/244.8 kB\u001b[0m \u001b[31m?\u001b[0m eta \u001b[36m-:--:--\u001b[0m\r\u001b[2K   \u001b[90m━━━━━━━━━━━━━━━━━━━━━━━━━━━━━━━━━━━━━━━━\u001b[0m \u001b[32m244.8/244.8 kB\u001b[0m \u001b[31m10.2 MB/s\u001b[0m eta \u001b[36m0:00:00\u001b[0m\n",
            "\u001b[?25h\u001b[?25l   \u001b[90m━━━━━━━━━━━━━━━━━━━━━━━━━━━━━━━━━━━━━━━━\u001b[0m \u001b[32m0.0/85.4 kB\u001b[0m \u001b[31m?\u001b[0m eta \u001b[36m-:--:--\u001b[0m\r\u001b[2K   \u001b[90m━━━━━━━━━━━━━━━━━━━━━━━━━━━━━━━━━━━━━━━━\u001b[0m \u001b[32m85.4/85.4 kB\u001b[0m \u001b[31m5.3 MB/s\u001b[0m eta \u001b[36m0:00:00\u001b[0m\n",
            "\u001b[?25h"
          ]
        }
      ]
    },
    {
      "cell_type": "code",
      "source": [
        "import os\n",
        "from getpass import getpass\n",
        "\n",
        "os.environ[\"PINECONE_API_KEY\"] =\"pcsk_4zJuyy_8nJ1fkspfg3NmpYDeCdLR9nvorKuJW9Su4CSrsKZtBaBK5LJ2anTAaeuLTQ9f16\""
      ],
      "metadata": {
        "id": "6jmbq3EWzN26"
      },
      "execution_count": 10,
      "outputs": []
    },
    {
      "cell_type": "code",
      "source": [
        "from langchain_pinecone import PineconeEmbeddings\n",
        "\n",
        "embeddings = PineconeEmbeddings(model=\"multilingual-e5-large\")"
      ],
      "metadata": {
        "id": "u_q5eFuV6nPK"
      },
      "execution_count": 11,
      "outputs": []
    },
    {
      "cell_type": "code",
      "source": [
        "from langchain_experimental.text_splitter import SemanticChunker\n",
        "\n",
        "text_splitter = SemanticChunker(embeddings)"
      ],
      "metadata": {
        "id": "PGz7eB4-638r"
      },
      "execution_count": null,
      "outputs": []
    },
    {
      "cell_type": "code",
      "source": [
        "docs = text_splitter.create_documents([combined_text])"
      ],
      "metadata": {
        "id": "_lwJGL8p680b"
      },
      "execution_count": null,
      "outputs": []
    },
    {
      "cell_type": "code",
      "source": [
        "%pip install -qU langchain-pinecone pinecone-notebooks"
      ],
      "metadata": {
        "colab": {
          "base_uri": "https://localhost:8080/"
        },
        "id": "8rlIeYVA7DEI",
        "outputId": "cef61678-e899-437a-f247-0aac1c2e1872"
      },
      "execution_count": null,
      "outputs": [
        {
          "output_type": "stream",
          "name": "stdout",
          "text": [
            "\u001b[?25l   \u001b[90m━━━━━━━━━━━━━━━━━━━━━━━━━━━━━━━━━━━━━━━━\u001b[0m \u001b[32m0.0/1.2 MB\u001b[0m \u001b[31m?\u001b[0m eta \u001b[36m-:--:--\u001b[0m\r\u001b[2K   \u001b[91m━━━━━━━━━━━\u001b[0m\u001b[91m╸\u001b[0m\u001b[90m━━━━━━━━━━━━━━━━━━━━━━━━━━━━\u001b[0m \u001b[32m0.4/1.2 MB\u001b[0m \u001b[31m11.1 MB/s\u001b[0m eta \u001b[36m0:00:01\u001b[0m\r\u001b[2K   \u001b[91m━━━━━━━━━━━━━━━━━━━━━━━━━━━━━━━━━━━━━━━\u001b[0m\u001b[91m╸\u001b[0m \u001b[32m1.2/1.2 MB\u001b[0m \u001b[31m22.8 MB/s\u001b[0m eta \u001b[36m0:00:01\u001b[0m\r\u001b[2K   \u001b[90m━━━━━━━━━━━━━━━━━━━━━━━━━━━━━━━━━━━━━━━━\u001b[0m \u001b[32m1.2/1.2 MB\u001b[0m \u001b[31m16.7 MB/s\u001b[0m eta \u001b[36m0:00:00\u001b[0m\n",
            "\u001b[2K   \u001b[90m━━━━━━━━━━━━━━━━━━━━━━━━━━━━━━━━━━━━━━━━\u001b[0m \u001b[32m244.8/244.8 kB\u001b[0m \u001b[31m15.9 MB/s\u001b[0m eta \u001b[36m0:00:00\u001b[0m\n",
            "\u001b[2K   \u001b[90m━━━━━━━━━━━━━━━━━━━━━━━━━━━━━━━━━━━━━━━━\u001b[0m \u001b[32m85.4/85.4 kB\u001b[0m \u001b[31m5.1 MB/s\u001b[0m eta \u001b[36m0:00:00\u001b[0m\n",
            "\u001b[?25h"
          ]
        }
      ]
    },
    {
      "cell_type": "code",
      "source": [
        "import getpass\n",
        "import os\n",
        "import time\n",
        "\n",
        "from pinecone import Pinecone, ServerlessSpec\n",
        "\n",
        "os.environ[\"PINECONE_API_KEY\"] = \"pcsk_6nF6sg_L9LpJdX4hcNpWJ59HaWc68t6brZLTVCwV9YTTxGTkUESSBfgRsXSKwhSEXqfWKu\"\n",
        "\n",
        "pinecone_api_key = os.environ.get(\"PINECONE_API_KEY\")\n",
        "\n",
        "pc = Pinecone(api_key=pinecone_api_key)"
      ],
      "metadata": {
        "id": "N9n21vjg73-i"
      },
      "execution_count": 12,
      "outputs": []
    },
    {
      "cell_type": "code",
      "source": [
        "import time\n",
        "\n",
        "index_name = \"expense\"  # change if desired\n",
        "index = pc.Index(index_name)"
      ],
      "metadata": {
        "id": "6ZwhqeW57_mx"
      },
      "execution_count": 13,
      "outputs": []
    },
    {
      "cell_type": "code",
      "source": [
        "import pinecone\n",
        "from langchain.vectorstores import Pinecone"
      ],
      "metadata": {
        "id": "Xg95eZtJ8Jyl"
      },
      "execution_count": 14,
      "outputs": []
    },
    {
      "cell_type": "code",
      "source": [
        "from langchain_pinecone import PineconeVectorStore\n",
        "\n",
        "vector_store = PineconeVectorStore(index=index, embedding=embeddings)"
      ],
      "metadata": {
        "id": "zGNOuxz28R1w"
      },
      "execution_count": 15,
      "outputs": []
    },
    {
      "cell_type": "code",
      "source": [
        "retriever = vector_store.as_retriever()"
      ],
      "metadata": {
        "id": "Bi3_OytE8qth"
      },
      "execution_count": 16,
      "outputs": []
    },
    {
      "cell_type": "code",
      "source": [
        "from langchain.prompts import ChatPromptTemplate\n",
        "\n",
        "# Decomposition\n",
        "template = \"\"\"You are a helpful assistant tasked with generating multiple sub-questions related to a given input question.\n",
        "The goal is to break down the input question into a set of sub-problems or sub-questions that can be used to fetch the documents from vector store.\n",
        "Provide the questions in the following structured format, limited to 10 questions, and separated by \\n:\n",
        "\n",
        "Example Output:\n",
        "\n",
        "How can the user categorize their spending to identify unnecessary expenses?\n",
        "What steps can the user take to create a personalized savings plan?\n",
        "How can the user track their expenses to ensure they stick to a budget?\n",
        "What tools or apps can the user use to automate their budgeting process?\n",
        "How can the user identify patterns in their spending habits over time?\n",
        "What are some practical ways to reduce fixed monthly expenses?\n",
        "How can the user allocate their income to achieve specific savings goals?\n",
        "What role do emergency funds play in effective money management?\n",
        "How can the user balance spending on necessities and leisure?\n",
        "How can the user set realistic financial goals based on their current spending analysis?\n",
        "Search queries related to: {question}:\"\"\"\n",
        "prompt_decomposition = ChatPromptTemplate.from_template(template)"
      ],
      "metadata": {
        "id": "jJywSFs0NAP3"
      },
      "execution_count": 77,
      "outputs": []
    },
    {
      "cell_type": "code",
      "source": [
        "pip install langchain_groq"
      ],
      "metadata": {
        "colab": {
          "base_uri": "https://localhost:8080/"
        },
        "collapsed": true,
        "id": "mjJviDo5QSQ3",
        "outputId": "e70530e4-112f-4591-cdbf-acf784097f3f"
      },
      "execution_count": 18,
      "outputs": [
        {
          "output_type": "stream",
          "name": "stdout",
          "text": [
            "Collecting langchain_groq\n",
            "  Downloading langchain_groq-0.2.1-py3-none-any.whl.metadata (2.9 kB)\n",
            "Requirement already satisfied: groq<1,>=0.4.1 in /usr/local/lib/python3.10/dist-packages (from langchain_groq) (0.12.0)\n",
            "Requirement already satisfied: langchain-core<0.4.0,>=0.3.15 in /usr/local/lib/python3.10/dist-packages (from langchain_groq) (0.3.21)\n",
            "Requirement already satisfied: anyio<5,>=3.5.0 in /usr/local/lib/python3.10/dist-packages (from groq<1,>=0.4.1->langchain_groq) (3.7.1)\n",
            "Requirement already satisfied: distro<2,>=1.7.0 in /usr/local/lib/python3.10/dist-packages (from groq<1,>=0.4.1->langchain_groq) (1.9.0)\n",
            "Requirement already satisfied: httpx<1,>=0.23.0 in /usr/local/lib/python3.10/dist-packages (from groq<1,>=0.4.1->langchain_groq) (0.27.2)\n",
            "Requirement already satisfied: pydantic<3,>=1.9.0 in /usr/local/lib/python3.10/dist-packages (from groq<1,>=0.4.1->langchain_groq) (2.9.2)\n",
            "Requirement already satisfied: sniffio in /usr/local/lib/python3.10/dist-packages (from groq<1,>=0.4.1->langchain_groq) (1.3.1)\n",
            "Requirement already satisfied: typing-extensions<5,>=4.7 in /usr/local/lib/python3.10/dist-packages (from groq<1,>=0.4.1->langchain_groq) (4.12.2)\n",
            "Requirement already satisfied: PyYAML>=5.3 in /usr/local/lib/python3.10/dist-packages (from langchain-core<0.4.0,>=0.3.15->langchain_groq) (6.0.2)\n",
            "Requirement already satisfied: jsonpatch<2.0,>=1.33 in /usr/local/lib/python3.10/dist-packages (from langchain-core<0.4.0,>=0.3.15->langchain_groq) (1.33)\n",
            "Requirement already satisfied: langsmith<0.2.0,>=0.1.125 in /usr/local/lib/python3.10/dist-packages (from langchain-core<0.4.0,>=0.3.15->langchain_groq) (0.1.143)\n",
            "Requirement already satisfied: packaging<25,>=23.2 in /usr/local/lib/python3.10/dist-packages (from langchain-core<0.4.0,>=0.3.15->langchain_groq) (24.2)\n",
            "Requirement already satisfied: tenacity!=8.4.0,<10.0.0,>=8.1.0 in /usr/local/lib/python3.10/dist-packages (from langchain-core<0.4.0,>=0.3.15->langchain_groq) (9.0.0)\n",
            "Requirement already satisfied: idna>=2.8 in /usr/local/lib/python3.10/dist-packages (from anyio<5,>=3.5.0->groq<1,>=0.4.1->langchain_groq) (3.10)\n",
            "Requirement already satisfied: exceptiongroup in /usr/local/lib/python3.10/dist-packages (from anyio<5,>=3.5.0->groq<1,>=0.4.1->langchain_groq) (1.2.2)\n",
            "Requirement already satisfied: certifi in /usr/local/lib/python3.10/dist-packages (from httpx<1,>=0.23.0->groq<1,>=0.4.1->langchain_groq) (2024.8.30)\n",
            "Requirement already satisfied: httpcore==1.* in /usr/local/lib/python3.10/dist-packages (from httpx<1,>=0.23.0->groq<1,>=0.4.1->langchain_groq) (1.0.7)\n",
            "Requirement already satisfied: h11<0.15,>=0.13 in /usr/local/lib/python3.10/dist-packages (from httpcore==1.*->httpx<1,>=0.23.0->groq<1,>=0.4.1->langchain_groq) (0.14.0)\n",
            "Requirement already satisfied: jsonpointer>=1.9 in /usr/local/lib/python3.10/dist-packages (from jsonpatch<2.0,>=1.33->langchain-core<0.4.0,>=0.3.15->langchain_groq) (3.0.0)\n",
            "Requirement already satisfied: orjson<4.0.0,>=3.9.14 in /usr/local/lib/python3.10/dist-packages (from langsmith<0.2.0,>=0.1.125->langchain-core<0.4.0,>=0.3.15->langchain_groq) (3.10.11)\n",
            "Requirement already satisfied: requests<3,>=2 in /usr/local/lib/python3.10/dist-packages (from langsmith<0.2.0,>=0.1.125->langchain-core<0.4.0,>=0.3.15->langchain_groq) (2.32.3)\n",
            "Requirement already satisfied: requests-toolbelt<2.0.0,>=1.0.0 in /usr/local/lib/python3.10/dist-packages (from langsmith<0.2.0,>=0.1.125->langchain-core<0.4.0,>=0.3.15->langchain_groq) (1.0.0)\n",
            "Requirement already satisfied: annotated-types>=0.6.0 in /usr/local/lib/python3.10/dist-packages (from pydantic<3,>=1.9.0->groq<1,>=0.4.1->langchain_groq) (0.7.0)\n",
            "Requirement already satisfied: pydantic-core==2.23.4 in /usr/local/lib/python3.10/dist-packages (from pydantic<3,>=1.9.0->groq<1,>=0.4.1->langchain_groq) (2.23.4)\n",
            "Requirement already satisfied: charset-normalizer<4,>=2 in /usr/local/lib/python3.10/dist-packages (from requests<3,>=2->langsmith<0.2.0,>=0.1.125->langchain-core<0.4.0,>=0.3.15->langchain_groq) (3.4.0)\n",
            "Requirement already satisfied: urllib3<3,>=1.21.1 in /usr/local/lib/python3.10/dist-packages (from requests<3,>=2->langsmith<0.2.0,>=0.1.125->langchain-core<0.4.0,>=0.3.15->langchain_groq) (2.2.3)\n",
            "Downloading langchain_groq-0.2.1-py3-none-any.whl (14 kB)\n",
            "Installing collected packages: langchain_groq\n",
            "Successfully installed langchain_groq-0.2.1\n"
          ]
        }
      ]
    },
    {
      "cell_type": "code",
      "source": [
        "import getpass\n",
        "import os\n",
        "\n",
        "os.environ[\"GROQ_API_KEY\"] = \"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\"\n",
        "\n",
        "from langchain_groq import ChatGroq\n",
        "\n",
        "llm = ChatGroq(model=\"llama3-8b-8192\")"
      ],
      "metadata": {
        "id": "1xAa1cd8QJPh"
      },
      "execution_count": 19,
      "outputs": []
    },
    {
      "cell_type": "code",
      "source": [
        "def extract_questions(text):\n",
        "    lines = text.split('\\n')\n",
        "    questions = [line.strip() for line in lines if line.strip().endswith('?')]\n",
        "\n",
        "    return questions\n",
        "\n",
        "# Custom parser to apply the extract_questions function\n",
        "class QuestionExtractionParser(StrOutputParser):\n",
        "    def parse(self, text: str) -> list:\n",
        "        return extract_questions(text)"
      ],
      "metadata": {
        "id": "eUv-NEoV6EJd"
      },
      "execution_count": 78,
      "outputs": []
    },
    {
      "cell_type": "code",
      "source": [
        "from langchain_core.output_parsers import StrOutputParser\n",
        "\n",
        "# Chain\n",
        "generate_queries = ( prompt_decomposition | llm | QuestionExtractionParser() )\n"
      ],
      "metadata": {
        "id": "xuFyDTC8QXSH"
      },
      "execution_count": 79,
      "outputs": []
    },
    {
      "cell_type": "code",
      "source": [
        "from langchain.load import dumps, loads\n",
        "\n",
        "def reciprocal_rank_fusion(results: list[list], k=60, top_n=5):\n",
        "    \"\"\" Reciprocal_rank_fusion that takes multiple lists of ranked documents\n",
        "        and an optional parameter k used in the RRF formula.\n",
        "        Returns top_n documents based on fused scores.\"\"\"\n",
        "\n",
        "    # Initialize a dictionary to hold fused scores for each unique document\n",
        "    fused_scores = {}\n",
        "\n",
        "    # Iterate through each list of ranked documents\n",
        "    for docs in results:\n",
        "        # Iterate through each document in the list, with its rank (position in the list)\n",
        "        for rank, doc in enumerate(docs):\n",
        "            # Convert the document to a string format to use as a key (assumes documents can be serialized to JSON)\n",
        "            doc_str = dumps(doc)\n",
        "            # If the document is not yet in the fused_scores dictionary, add it with an initial score of 0\n",
        "            if doc_str not in fused_scores:\n",
        "                fused_scores[doc_str] = 0\n",
        "            # Retrieve the current score of the document, if any\n",
        "            previous_score = fused_scores[doc_str]\n",
        "            # Update the score of the document using the RRF formula: 1 / (rank + k)\n",
        "            fused_scores[doc_str] += 1 / (rank + k)\n",
        "\n",
        "    # Sort the documents based on their fused scores in descending order to get the final reranked results\n",
        "    reranked_results = [\n",
        "        (loads(doc), score)\n",
        "        for doc, score in sorted(fused_scores.items(), key=lambda x: x[1], reverse=True)\n",
        "    ]\n",
        "\n",
        "    # Return only the top_n results\n",
        "    return reranked_results[:top_n]\n",
        "\n",
        "# Example of invoking the modified function\n",
        "retrieval_chain_rag_fusion = generate_queries | retriever.map() | reciprocal_rank_fusion\n",
        "docs = retrieval_chain_rag_fusion.invoke({\"question\": customer_details})\n",
        "len(docs)\n"
      ],
      "metadata": {
        "colab": {
          "base_uri": "https://localhost:8080/"
        },
        "id": "Fh7_KjUbBWhR",
        "outputId": "f89dbbfa-bcdf-4f93-f517-fdbd0f3f5541"
      },
      "execution_count": 84,
      "outputs": [
        {
          "output_type": "execute_result",
          "data": {
            "text/plain": [
              "5"
            ]
          },
          "metadata": {},
          "execution_count": 84
        }
      ]
    },
    {
      "cell_type": "code",
      "source": [
        "from langchain_core.runnables import RunnablePassthrough\n",
        "from operator import itemgetter\n",
        "# RAG\n",
        "template = \"\"\"\n",
        "Input Data Received:\n",
        "{question}\n",
        "\n",
        "\n",
        "you should give below data by taking reference from below documents\n",
        "{context}\n",
        "\n",
        "Comprehensive Financial Narrative and Personalized Guidance Prompt:\n",
        "\n",
        "Objective: Create a rich, detailed, and motivational financial narrative that provides deep insights and actionable strategies.\n",
        "\n",
        "\n",
        "Detailed Guidance Requirements:\n",
        "\n",
        "1. Personalized Financial Story\n",
        "- Construct a narrative that brings the user's financial journey to life\n",
        "- Elaborate on how current spending reflects personal values and goals\n",
        "- Identify key financial turning points and potential future opportunities\n",
        "- Use storytelling to transform dry numbers into an engaging personal journey\n",
        "- Highlight unexpected insights that might surprise or inspire the user\n",
        "\n",
        "2. Budgeting Techniques Tailored to User Profile\n",
        "A. Personality-Driven Budgeting Strategies\n",
        "For each personality type, provide:\n",
        "- Detailed explanation of why this approach works\n",
        "- Step-by-step implementation guide\n",
        "- Psychological benefits of the chosen method\n",
        "- Potential challenges and how to overcome them\n",
        "\n",
        "Examples:\n",
        "- Analytical Approach:\n",
        "  * Comprehensive tracking system\n",
        "  * Data-driven decision-making framework\n",
        "  * Tools and apps for meticulous financial monitoring\n",
        "\n",
        "- Visual Learners:\n",
        "  * Color-coded expense visualization\n",
        "  * Graphic-based budgeting tools\n",
        "  * Visual goal-setting techniques\n",
        "\n",
        "- Tech-Savvy Individuals:\n",
        "  * Advanced app integration\n",
        "  * Automated tracking and analysis\n",
        "  * AI-powered spending insights\n",
        "\n",
        "B. Innovative Budgeting Strategies\n",
        "For each strategy, provide:\n",
        "- Detailed breakdown of methodology\n",
        "- Potential financial impact\n",
        "- Real-world application examples\n",
        "- Customization tips\n",
        "\n",
        "Strategies include:\n",
        "- Enhanced 50/30/20 Rule with personalized adjustments\n",
        "- Zero-based budgeting with flexibility\n",
        "- Reverse budgeting approach\n",
        "- Adaptive spending framework\n",
        "\n",
        "3. Advanced Saving Techniques\n",
        "Detailed exploration of:\n",
        "- Innovative micro-saving methods\n",
        "- Psychological triggers for consistent saving\n",
        "- Automated saving mechanisms\n",
        "- Gamification of financial goals\n",
        "- Creating meaningful saving challenges\n",
        "- Techniques to make saving feel rewarding, not restrictive\n",
        "\n",
        "4. Deep Psychological Insights\n",
        "- Comprehensive analysis of spending triggers\n",
        "- Emotional intelligence approach to finances\n",
        "- Mindfulness techniques for financial decision-making\n",
        "- Strategies to overcome financial anxiety\n",
        "- Reframing financial challenges as opportunities for growth\n",
        "\n",
        "Delivery Approach:\n",
        "- Conversational and deeply engaging tone\n",
        "- Concrete, actionable steps\n",
        "- Inspirational and empowering language\n",
        "- Personalized, non-judgmental guidance\n",
        "- Provide context and reasoning behind each recommendation\n",
        "\n",
        "Core Purpose:\n",
        "Transform financial data into a powerful, personalized narrative of potential, growth, and financial empowerment that\n",
        "\"\"\"\n",
        "\n",
        "prompt = ChatPromptTemplate.from_template(template)\n",
        "\n",
        "final_rag_chain = (\n",
        "    {\"context\": retrieval_chain_rag_fusion,\n",
        "     \"question\": itemgetter(\"question\")}\n",
        "    | prompt\n",
        "    | llm\n",
        "    | StrOutputParser()\n",
        ")\n",
        "\n",
        "final_rag_chain.invoke({\"question\":customer_details})"
      ],
      "metadata": {
        "colab": {
          "base_uri": "https://localhost:8080/",
          "height": 417
        },
        "id": "9c6MjBktCCU9",
        "outputId": "2e97f3c7-f781-422e-a5ca-dde52accf2bb"
      },
      "execution_count": 86,
      "outputs": [
        {
          "output_type": "execute_result",
          "data": {
            "text/plain": [
              "'Based on the provided documents, I will create a comprehensive financial narrative and personalized guidance prompt for the user.\\n\\n**Personalized Financial Story**\\n\\nAs a resident of Mumbai, you have a salary of ₹50000, which is a significant income in this city. Your current spending habits reflect your priorities and values. You spend a substantial amount on food, which is a necessity, but also on housing, which is a significant expense in Mumbai. Your transportation costs are relatively low, and you don\\'t spend much on entertainment, education, or personal care.\\n\\nYour current financial situation is a reflection of your priorities and values. You are likely working hard to make ends meet and provide for yourself and your loved ones. However, it\\'s essential to recognize that your spending habits can impact your long-term financial goals.\\n\\nAs you move forward, it\\'s crucial to identify key financial turning points and potential future opportunities. For instance, you may want to consider opening a high-yield savings account to offset the effects of inflation. You may also want to explore tax-advantaged retirement accounts, such as a 401(k) or a Roth IRA.\\n\\n**Budgeting Techniques Tailored to User Profile**\\n\\nA. Personality-Driven Budgeting Strategies\\n\\n* For analytical individuals: Implement a comprehensive tracking system using spreadsheets or budgeting apps. This will help you make data-driven decisions and stay on top of your finances.\\n* For visual learners: Use color-coded expense visualization to categorize your spending and create a graphic-based budgeting system. This will help you visualize your finances and make informed decisions.\\n* For tech-savvy individuals: Utilize advanced apps and automated tracking systems to monitor your expenses and stay on top of your finances.\\n\\nB. Innovative Budgeting Strategies\\n\\n* Enhanced 50/30/20 Rule: Allocate 50% of your income towards necessities like housing, utilities, and food. Use 30% for discretionary spending, and 20% for saving and debt repayment.\\n* Zero-based budgeting: Start from a \"zero balance\" and allocate every dollar towards a specific expense or savings goal.\\n* Reverse budgeting: Focus on saving and debt repayment first, and then allocate the remaining amount towards discretionary spending.\\n\\n**Advanced Saving Techniques**\\n\\n* Micro-saving methods: Set aside small amounts regularly, such as ₹1000 per month, to build an emergency fund or save for specific goals.\\n* Psychological triggers: Use emotional triggers, such as setting financial goals or rewarding yourself for achieving milestones, to stay motivated and consistent.\\n* Automated saving mechanisms: Set up automatic transfers from your checking account to your savings or investment accounts.\\n* Gamification: Turn saving into a game by setting challenges and tracking progress.\\n\\n**Deep Psychological Insights**\\n\\n* Spending triggers: Identify and overcome emotional spending triggers by practicing mindfulness and self-awareness.\\n* Emotional intelligence: Recognize and manage your emotions to make informed financial decisions.\\n* Mindfulness techniques: Practice mindfulness meditation and deep breathing exercises to stay present and focused during financial decision-making.\\n* Strategies to overcome financial anxiety: Break down large financial goals into smaller, manageable tasks, and focus on small wins to build confidence.\\n\\n**Delivery Approach**\\n\\nThis comprehensive financial narrative and personalized guidance prompt aims to transform financial data into a powerful, personalized story of potential, growth, and financial empowerment. The tone is conversational and engaging, with concrete, actionable steps and inspirational language. The guidance is personalized, non-judgmental, and provides context and reasoning behind each recommendation.'"
            ],
            "application/vnd.google.colaboratory.intrinsic+json": {
              "type": "string"
            }
          },
          "metadata": {},
          "execution_count": 86
        }
      ]
    }
  ]
}